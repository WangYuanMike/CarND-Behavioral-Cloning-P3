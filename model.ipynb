{
 "cells": [
  {
   "cell_type": "code",
   "execution_count": 7,
   "metadata": {},
   "outputs": [
    {
     "name": "stderr",
     "output_type": "stream",
     "text": [
      "model created\n",
      "\n",
      "model compiled\n"
     ]
    },
    {
     "name": "stdout",
     "output_type": "stream",
     "text": [
      "Epoch 1/3\n",
      "1184/1205 [============================>.] - ETA: 0s - loss: 109.4977"
     ]
    },
    {
     "name": "stderr",
     "output_type": "stream",
     "text": [
      "C:\\Users\\I054267\\AppData\\Local\\Continuum\\miniconda3\\envs\\carnd-term1_new_tf\\lib\\site-packages\\keras\\engine\\training.py:1569: UserWarning: Epoch comprised more than `samples_per_epoch` samples, which might affect learning results. Set `samples_per_epoch` correctly to avoid this warning.\n",
      "  warnings.warn('Epoch comprised more than '\n"
     ]
    },
    {
     "name": "stdout",
     "output_type": "stream",
     "text": [
      "1216/1205 [==============================] - 21s - loss: 106.6178 - val_loss: 0.0510\n",
      "Epoch 2/3\n",
      "1216/1205 [==============================] - 21s - loss: 0.0458 - val_loss: 0.0434\n",
      "Epoch 3/3\n",
      "1216/1205 [==============================] - 21s - loss: 0.0375 - val_loss: 0.0427"
     ]
    },
    {
     "name": "stderr",
     "output_type": "stream",
     "text": [
      "model trained\n",
      "Best model so far. Model saved.\n",
      "\n",
      "\n",
      "model compiled\n"
     ]
    },
    {
     "name": "stdout",
     "output_type": "stream",
     "text": [
      "\n",
      "Epoch 1/3\n",
      "1216/1205 [==============================] - 22s - loss: 0.0837 - val_loss: 0.0518\n",
      "Epoch 2/3\n",
      "1216/1205 [==============================] - 21s - loss: 0.0458 - val_loss: 0.0434\n",
      "Epoch 3/3\n",
      "1216/1205 [==============================] - 26s - loss: 0.0375 - val_loss: 0.0427"
     ]
    },
    {
     "name": "stderr",
     "output_type": "stream",
     "text": [
      "model trained\n",
      "\n",
      "model compiled\n"
     ]
    },
    {
     "name": "stdout",
     "output_type": "stream",
     "text": [
      "\n",
      "Epoch 1/3\n",
      "1216/1205 [==============================] - 25s - loss: 0.0409 - val_loss: 0.0511\n",
      "Epoch 2/3\n",
      "1216/1205 [==============================] - 21s - loss: 0.0458 - val_loss: 0.0453\n",
      "Epoch 3/3\n",
      "1216/1205 [==============================] - 21s - loss: 0.0375 - val_loss: 0.0425"
     ]
    },
    {
     "name": "stderr",
     "output_type": "stream",
     "text": [
      "model trained\n",
      "Best model so far. Model saved.\n",
      "\n"
     ]
    },
    {
     "name": "stdout",
     "output_type": "stream",
     "text": [
      "\n",
      "Result list (sorted by validation accuracy)\n",
      "learning rate=7.43e-03, decay_rate=0.9, batch size=32, train loss=0.037, validation loss=0.042\n",
      "learning rate=7.43e-03, decay_rate=0.05, batch size=32, train loss=0.037, validation loss=0.043\n",
      "learning rate=7.43e-03, decay_rate=0.1, batch size=32, train loss=0.037, validation loss=0.043\n"
     ]
    },
    {
     "name": "stderr",
     "output_type": "stream",
     "text": [
      "Best model saved\n"
     ]
    },
    {
     "data": {
      "image/png": "[encoded data removed]",
      "text/plain": [
       "<matplotlib.figure.Figure at 0x24eb7d539e8>"
      ]
     },
     "metadata": {},
     "output_type": "display_data"
    }
   ],
   "source": [
    "import csv\n",
    "import cv2\n",
    "from scipy import ndimage\n",
    "import numpy as np\n",
    "import logging\n",
    "\n",
    "logger = logging.getLogger()\n",
    "logger.setLevel(logging.INFO) #logging.INFO logging.DEBUG\n",
    "if logger.handlers == []:\n",
    "    ch = logging.StreamHandler()\n",
    "    logger.addHandler(ch)\n",
    "\n",
    "############################################################################\n",
    "# Data generator for data loading and data augmentation\n",
    "############################################################################\n",
    "import sklearn\n",
    "from sklearn.model_selection import train_test_split\n",
    "from sklearn.utils import shuffle\n",
    "\n",
    "# Load training data (image file name + steering) from csv file\n",
    "samples = []\n",
    "with open('./data/data/driving_log.csv') as csvfile:\n",
    "    reader = csv.reader(csvfile)\n",
    "    for line in reader:\n",
    "        samples.append(line)\n",
    "\n",
    "# Split 20% data as validation samples\n",
    "train_samples, validation_samples = train_test_split(samples, test_size=0.2)\n",
    "\n",
    "# Define data generator\n",
    "def generator(samples, batch_size=32, is_training=False):\n",
    "    \n",
    "    num_samples = len(samples)\n",
    "    correction = 0.2\n",
    "    \n",
    "    while 1: # Loop forever so the generator never terminates\n",
    "        shuffle(samples)\n",
    "        for offset in range(0, num_samples, batch_size):\n",
    "            batch_samples = samples[offset:offset+batch_size]\n",
    "\n",
    "            images = []\n",
    "            angles = []\n",
    "            for batch_sample in batch_samples:\n",
    "                for i in range(3):\n",
    "                    try:\n",
    "                        # Load image and steering angle\n",
    "                        name = './data/data/IMG/'+batch_sample[i].split('/')[-1]\n",
    "                        image = ndimage.imread(name)    # Read image in BGR format\n",
    "                        angle = float(batch_sample[3])\n",
    "                        if i == 1:    # Left camera image steering correction\n",
    "                            angle += correction \n",
    "                        elif i == 2:  # Right camera image steering correction\n",
    "                            angle -= correction\n",
    "                        images.append(image)\n",
    "                        angles.append(angle)\n",
    "                        \n",
    "                        # Data augmentation by flipping if in training mode\n",
    "                        if is_training:\n",
    "                           images.append(cv2.flip(image, 1))\n",
    "                           angles.append(angle * -1.0)\n",
    "                    except Exception as e:\n",
    "                        logger.debug(\"\")\n",
    "                        logger.debug(name)\n",
    "                        logger.debug(str(e))\n",
    "                        logger.debug(\"\")\n",
    "\n",
    "            X_train = np.array(images)\n",
    "            y_train = np.array(angles)\n",
    "            \n",
    "            for offset in range(0, len(X_train), batch_size):\n",
    "                batch_X = X_train[offset:offset+batch_size]\n",
    "                batch_y = y_train[offset:offset+batch_size]\n",
    "                yield shuffle(batch_X, batch_y)\n",
    "\n",
    "############################################################################\n",
    "# Create, train, and save model\n",
    "############################################################################\n",
    "from keras.models import Sequential\n",
    "from keras.layers import Flatten, Dense, Lambda, Cropping2D, Convolution2D\n",
    "from keras import optimizers\n",
    "import matplotlib.pyplot as plt\n",
    "\n",
    "# Hyperparameters\n",
    "learning_rates = 10 ** np.random.uniform(-3, -1, 10)\n",
    "decay_rates = 10 ** np.random.uniform(-3, -1, 10)\n",
    "batch_sizes = [32, 64, 128]  \n",
    "num_epoch = 5           \n",
    "\n",
    "# model and history object of various hyperparameters combinations\n",
    "hyperparameter_dict = {}\n",
    "best_model = None\n",
    "best_model_history = None\n",
    "\n",
    "# Create NVIDIA model\n",
    "model = Sequential()\n",
    "model.add(Lambda(lambda x: x / 255.0 - 0.5, input_shape=(160,320,3)))\n",
    "model.add(Cropping2D(cropping=((70, 25), (0,0))))\n",
    "model.add(Convolution2D(24, 5, 5, subsample=(2,2), activation=\"relu\"))\n",
    "model.add(Convolution2D(36, 5, 5, subsample=(2,2), activation=\"relu\"))\n",
    "model.add(Convolution2D(48, 5, 5, subsample=(2,2), activation=\"relu\"))\n",
    "model.add(Convolution2D(64, 3, 3, activation=\"relu\"))\n",
    "model.add(Convolution2D(64, 3, 3, activation=\"relu\"))\n",
    "model.add(Flatten())\n",
    "model.add(Dense(100))\n",
    "model.add(Dense(50))\n",
    "model.add(Dense(10))\n",
    "model.add(Dense(1))\n",
    "logger.info('model created')\n",
    "\n",
    "# Since steering will be the only output, this becomes a regression problem,\n",
    "# therefore mse(mean_squared_error) loss function is chosen\n",
    "for lr in learning_rates:\n",
    "    for dr in decay_rates:\n",
    "        for bs in batch_sizes:\n",
    "            # Compile model with selected loss function and optimizer\n",
    "            adam = optimizers.Adam(lr=lr, decay=dr)\n",
    "            model.compile(loss='mse', optimizer=adam)\n",
    "            logger.info('')\n",
    "            logger.info('model compiled')\n",
    "\n",
    "            # Define generator with certain batch size\n",
    "            train_generator = generator(train_samples, batch_size=bs, is_training=True)\n",
    "            validation_generator = generator(validation_samples, batch_size=bs)\n",
    "\n",
    "            # Use generate to train and evaluate model\n",
    "            history = model.fit_generator(train_generator, samples_per_epoch=len(train_samples)*6,\n",
    "                                          validation_data=validation_generator,\n",
    "                                          nb_val_samples=len(validation_samples)*3, \n",
    "                                          nb_epoch=num_epoch, verbose=1)\n",
    "            logger.info('model trained')\n",
    "            \n",
    "\n",
    "            # Save object\n",
    "            hyperparameter_dict[(lr, dr, bs)] = (history.history['loss'][num_epoch-1], \n",
    "                                                 history.history['val_loss'][num_epoch-1])\n",
    "            if best_model == None or \\\n",
    "               history.history['val_loss'][num_epoch-1] < best_model_history.history['val_loss'][num_epoch-1]:\n",
    "                best_model = model\n",
    "                best_model_history = history\n",
    "                logger.info('Best model so far. Model saved.')\n",
    "                logger.info('')\n",
    "            \n",
    "# Sort and print result list\n",
    "print('Result list (sorted by validation accuracy)')\n",
    "hyperparameter_dict = sorted(hyperparameter_dict.items(), key=lambda x:x[1][1])\n",
    "for h in hyperparameter_dict:\n",
    "    print('learning rate={:.2e}, decay_rate={}, batch size={}, '\n",
    "          'train loss={:.3f}, validation loss={:.3f}'\n",
    "          .format(h[0][0], h[0][1], h[0][2], h[1][0], h[1][1]))\n",
    "        \n",
    "# Save the trained model\n",
    "best_model.save('model.h5')\n",
    "logger.info('Best model saved')\n",
    "\n",
    "# Visualize training loss and validation loss of best model\n",
    "plt.plot(best_model_history.history['loss'])\n",
    "plt.plot(best_model_history.history['val_loss'])\n",
    "plt.title('model mean squared error loss')\n",
    "plt.ylabel('mean squared error loss')\n",
    "plt.xlabel('epoch')\n",
    "plt.legend(['training set', 'validation set'], loc='upper right')\n",
    "plt.show()"
   ]
  },
  {
   "cell_type": "code",
   "execution_count": null,
   "metadata": {},
   "outputs": [],
   "source": []
  }
 ],
 "metadata": {
  "kernelspec": {
   "display_name": "Python 3",
   "language": "python",
   "name": "python3"
  },
  "language_info": {
   "codemirror_mode": {
    "name": "ipython",
    "version": 3
   },
   "file_extension": ".py",
   "mimetype": "text/x-python",
   "name": "python",
   "nbconvert_exporter": "python",
   "pygments_lexer": "ipython3",
   "version": "3.5.2"
  },
  "widgets": {
   "state": {},
   "version": "1.1.2"
  }
 },
 "nbformat": 4,
 "nbformat_minor": 2
}
